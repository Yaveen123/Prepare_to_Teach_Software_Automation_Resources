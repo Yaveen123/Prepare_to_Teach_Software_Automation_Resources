{
 "cells": [
  {
   "cell_type": "markdown",
   "metadata": {},
   "source": [
    "# Numpy\n",
    "A Python library used for working with arrays. In Python, we use the list for the array processor intensive. A NumPy array is a powerful N-dimensional array object. It provides an array object much faster than inbuilt Python lists.\n",
    "\n",
    "The [Numpy Documentation](https://numpy.org/doc/2.2/user/absolute_beginners.html#) is very user friendly."
   ]
  },
  {
   "cell_type": "code",
   "execution_count": null,
   "metadata": {},
   "outputs": [
    {
     "ename": "",
     "evalue": "",
     "output_type": "error",
     "traceback": [
      "\u001b[1;31mRunning cells with 'Python 3.13.5' requires the ipykernel package.\n",
      "\u001b[1;31mInstall 'ipykernel' into the Python environment. \n",
      "\u001b[1;31mCommand: '/opt/homebrew/bin/python3 -m pip install ipykernel -U --user --force-reinstall'"
     ]
    }
   ],
   "source": [
    "# importing Numpy library\n",
    "import numpy as np"
   ]
  },
  {
   "cell_type": "markdown",
   "metadata": {},
   "source": [
    "| Feature | List | NPArray |\n",
    "| ------ | -----: | -----: |\n",
    "| Builtin | Y | N |\n",
    "| Multiple data types | Y | N |\n",
    "| Multiple dimensions | N | Y |\n",
    "| Arithmetic Operations | N | Y |\n",
    "| Process intensive | Y | N |\n",
    "| Optimised for ML | N | Y |"
   ]
  },
  {
   "cell_type": "code",
   "execution_count": null,
   "metadata": {},
   "outputs": [],
   "source": [
    "# create a list\n",
    "list_1 = [0, 1, 2, 3, 4, 5, 6, 7, 8, 9]\n",
    "\n",
    "# creating numpy array\n",
    "sample_array_1 = np.array(list_1)\n",
    "\n",
    "print(f\"List in python :\\n{list_1}\\n\")\n",
    "\n",
    "print(f\"Numpy Array in python :\\n{sample_array_1}\")"
   ]
  },
  {
   "cell_type": "code",
   "execution_count": null,
   "metadata": {},
   "outputs": [],
   "source": [
    "# create a second list\n",
    "list_2 = [9, 8, 7, 6, 5, 4, 3, 2, 1, 0]\n",
    "sample_array_2 = np.array(list_2)\n",
    "# creating numpy array\n",
    "sample_array_3 = np.array([list_1, list_2])\n",
    "\n",
    "sample_array_4 = np.column_stack((sample_array_1,sample_array_2))\n",
    "\n",
    "print(f\"List in python :\\n{list_1}\\n\")\n",
    "\n",
    "print(f\"List_2 in python :\\n{list_2}\\n\")\n",
    "\n",
    "print(f\"2:10 Numpy Multi-dimensional Array in Python :\\n{sample_array_3}\\n\")\n",
    "print(f\"10:2 Numpy Multi-dimensional Array in Python :\\n{sample_array_4}\\n\")"
   ]
  },
  {
   "cell_type": "markdown",
   "metadata": {},
   "source": [
    "#### Array attributes\n",
    "\n",
    "ndim, shape, size, and dtype are attributes of an Numpy array."
   ]
  },
  {
   "cell_type": "code",
   "execution_count": null,
   "metadata": {},
   "outputs": [],
   "source": [
    "# An integer that tells us how many dimensions the array have.\n",
    "print(f\"Number of dimensions 1: {sample_array_1.ndim}\")\n",
    "print(f\"Number of dimensions 2: {sample_array_2.ndim}\")\n",
    "print(f\"Number of dimensions 3: {sample_array_3.ndim}\")\n",
    "print(f\"Number of dimensions 4: {sample_array_4.ndim}\")"
   ]
  },
  {
   "cell_type": "code",
   "execution_count": 12,
   "metadata": {},
   "outputs": [
    {
     "ename": "NameError",
     "evalue": "name 'sample_array_1' is not defined",
     "output_type": "error",
     "traceback": [
      "\u001b[0;31m---------------------------------------------------------------------------\u001b[0m",
      "\u001b[0;31mNameError\u001b[0m                                 Traceback (most recent call last)",
      "Cell \u001b[0;32mIn[12], line 3\u001b[0m\n\u001b[1;32m      1\u001b[0m \u001b[38;5;66;03m# A tuple of non-negative integers that specify the number of\u001b[39;00m\n\u001b[1;32m      2\u001b[0m \u001b[38;5;66;03m# elements along each dimension called the shape.\u001b[39;00m\n\u001b[0;32m----> 3\u001b[0m \u001b[38;5;28mprint\u001b[39m(\u001b[38;5;124mf\u001b[39m\u001b[38;5;124m\"\u001b[39m\u001b[38;5;124mShape of array 1: \u001b[39m\u001b[38;5;132;01m{\u001b[39;00msample_array_1\u001b[38;5;241m.\u001b[39mshape\u001b[38;5;132;01m}\u001b[39;00m\u001b[38;5;124m\"\u001b[39m)\n\u001b[1;32m      4\u001b[0m \u001b[38;5;28mprint\u001b[39m(\u001b[38;5;124mf\u001b[39m\u001b[38;5;124m\"\u001b[39m\u001b[38;5;124mShape of array 2: \u001b[39m\u001b[38;5;132;01m{\u001b[39;00msample_array_2\u001b[38;5;241m.\u001b[39mshape\u001b[38;5;132;01m}\u001b[39;00m\u001b[38;5;124m\"\u001b[39m)\n\u001b[1;32m      5\u001b[0m \u001b[38;5;28mprint\u001b[39m(\u001b[38;5;124mf\u001b[39m\u001b[38;5;124m\"\u001b[39m\u001b[38;5;124mShape of array 3: \u001b[39m\u001b[38;5;132;01m{\u001b[39;00msample_array_3\u001b[38;5;241m.\u001b[39mshape\u001b[38;5;132;01m}\u001b[39;00m\u001b[38;5;124m\"\u001b[39m)\n",
      "\u001b[0;31mNameError\u001b[0m: name 'sample_array_1' is not defined"
     ]
    }
   ],
   "source": [
    "# A tuple of non-negative integers that specify the number of\n",
    "# elements along each dimension called the shape.\n",
    "print(f\"Shape of array 1: {sample_array_1.shape}\")\n",
    "print(f\"Shape of array 2: {sample_array_2.shape}\")\n",
    "print(f\"Shape of array 3: {sample_array_3.shape}\")\n",
    "print(f\"Shape of array 4: {sample_array_4.shape}\")"
   ]
  },
  {
   "cell_type": "code",
   "execution_count": null,
   "metadata": {},
   "outputs": [],
   "source": [
    "# An object describing the type of the elements in the array.\n",
    "print(f\"Data type of array 1: {sample_array_1.dtype}\")\n",
    "print(f\"Data type of array 2: {sample_array_2.dtype}\")\n",
    "print(f\"Data type of array 3: {sample_array_3.dtype}\")\n",
    "print(f\"Data type of array 4: {sample_array_4.dtype}\")"
   ]
  },
  {
   "cell_type": "code",
   "execution_count": null,
   "metadata": {},
   "outputs": [],
   "source": [
    "# The fixed, total number of elements in array\n",
    "print(f\"Size of array 1: {sample_array_1.size}\")\n",
    "print(f\"Size of array 2: {sample_array_2.size}\")\n",
    "print(f\"Size of array 3: {sample_array_3.size}\")\n",
    "print(f\"Size of array 4: {sample_array_4.size}\")    "
   ]
  },
  {
   "cell_type": "markdown",
   "metadata": {},
   "source": [
    "#### Reshapping an Array\n",
    "\n",
    "Reshaping will give a new shape to an array without changing the data. Just remember that when you use the reshape method, the array you want to produce needs to have the same number of elements as the original array. If you start with an array with a size of 10, your new array also has a total of 10 elements."
   ]
  },
  {
   "cell_type": "code",
   "execution_count": null,
   "metadata": {},
   "outputs": [],
   "source": [
    "#Rehape the array\n",
    "print(f\"Array 1:\\n{sample_array_1}\\n\")\n",
    "reshape = sample_array_1.reshape(2,5) # 2*5 = size of array\n",
    "print(f\"Reshaped array:\\n{reshape}\")"
   ]
  },
  {
   "cell_type": "code",
   "execution_count": null,
   "metadata": {},
   "outputs": [],
   "source": [
    "# Reshape the array to 2D array from a 1D array with 1 row and 10 columns\n",
    "print(f\"Array 1:\\n{sample_array_1}\\n\")\n",
    "reshape = sample_array_1.reshape(1,10)\n",
    "print(f\"Reshaped array:\\n{reshape}\")"
   ]
  },
  {
   "cell_type": "code",
   "execution_count": null,
   "metadata": {},
   "outputs": [],
   "source": [
    "# Reshape the array to a 1D array from a 2D array with 10 rows and 1 column\n",
    "print(f\"Reshaped array:\\n{reshape}\\n\")\n",
    "flatten = reshape.flatten()\n",
    "print(f\"Flattened array:\\n{flatten}\")"
   ]
  }
 ],
 "metadata": {
  "kernelspec": {
   "display_name": ".venv",
   "language": "python",
   "name": "python3"
  },
  "language_info": {
   "codemirror_mode": {
    "name": "ipython",
    "version": 3
   },
   "file_extension": ".py",
   "mimetype": "text/x-python",
   "name": "python",
   "nbconvert_exporter": "python",
   "pygments_lexer": "ipython3",
   "version": "3.9.6"
  }
 },
 "nbformat": 4,
 "nbformat_minor": 2
}
